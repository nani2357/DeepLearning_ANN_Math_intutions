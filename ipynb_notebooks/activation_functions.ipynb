{
 "cells": [
  {
   "cell_type": "code",
   "execution_count": 1,
   "metadata": {},
   "outputs": [],
   "source": [
    "import numpy as np\n",
    "import pandas as pd\n",
    "import matplotlib.pyplot as plt\n",
    "import os\n",
    "\n",
    "plt.style.use('fivethirtyeight')"
   ]
  },
  {
   "cell_type": "code",
   "execution_count": 2,
   "metadata": {},
   "outputs": [
    {
     "data": {
      "text/plain": [
       "100"
      ]
     },
     "execution_count": 2,
     "metadata": {},
     "output_type": "execute_result"
    }
   ],
   "source": [
    "x = np.linspace(-10,10,100)\n",
    "len(x)"
   ]
  },
  {
   "cell_type": "code",
   "execution_count": 3,
   "metadata": {},
   "outputs": [],
   "source": [
    "def derivative(f,x,delta_x=1e-6):\n",
    "    return (f(x + delta_x) - f(x)) / (delta_x)"
   ]
  },
  {
   "cell_type": "code",
   "execution_count": 4,
   "metadata": {},
   "outputs": [],
   "source": [
    "def plot_graph(x, f, ALPHA=0.6, \n",
    "               label_x=r\"$x \\rightarrow$\", \n",
    "               label_y=r\"$act(x), act'(x)$\", \n",
    "               title=None, \n",
    "               LABEL_Y=None, \n",
    "               LABEL_Y_DASH=None, \n",
    "               filepath_to_plot=\"plot.png\"):\n",
    "    y = f(x)\n",
    "    y_dash = derivative(f, x)\n",
    "    plt.figure(figsize=(10, 8))\n",
    "    plt.axhline(y=0, color='black', linestyle='--', lw=2)\n",
    "    plt.axvline(x=0, color='black', linestyle='--', lw=2)\n",
    "    plt.xlabel(label_x)\n",
    "    plt.ylabel(label_y)\n",
    "\n",
    "    if (LABEL_Y is not None) and (LABEL_Y_DASH is not None):\n",
    "        plt.plot(x, y, alpha=ALPHA, label=LABEL_Y)\n",
    "        plt.plot(x, y_dash, alpha=ALPHA, label=LABEL_Y_DASH)\n",
    "        plt.legend(fontsize=14)\n",
    "    else:\n",
    "        plt.plot(x, y, alpha=ALPHA)\n",
    "        plt.plot(x, y_dash, alpha=ALPHA)\n",
    "\n",
    "    plt.savefig(filepath_to_plot)"
   ]
  },
  {
   "cell_type": "code",
   "execution_count": 5,
   "metadata": {},
   "outputs": [],
   "source": [
    "\n",
    "root_plot_dir = \"plots\"\n",
    "os.makedirs(root_plot_dir, exist_ok=True)"
   ]
  },
  {
   "cell_type": "markdown",
   "metadata": {},
   "source": [
    "### **Sigmod function**\n",
    "\n",
    "\n",
    "\n",
    "The function formula and graph are as follows\n",
    "\n",
    "$$\\sigma (x) = \\frac{1}{1+e^{-x}}$$\n",
    "\n",
    "$$where\\ \\sigma(x) \\in (0, 1),\\\\\n",
    "and\\ x \\in (-\\infty, +\\infty)$$\n",
    "\n",
    "#### Python implimentaion - "
   ]
  },
  {
   "cell_type": "code",
   "execution_count": null,
   "metadata": {},
   "outputs": [],
   "source": []
  }
 ],
 "metadata": {
  "kernelspec": {
   "display_name": "base",
   "language": "python",
   "name": "python3"
  },
  "language_info": {
   "codemirror_mode": {
    "name": "ipython",
    "version": 3
   },
   "file_extension": ".py",
   "mimetype": "text/x-python",
   "name": "python",
   "nbconvert_exporter": "python",
   "pygments_lexer": "ipython3",
   "version": "3.10.9"
  },
  "orig_nbformat": 4
 },
 "nbformat": 4,
 "nbformat_minor": 2
}
